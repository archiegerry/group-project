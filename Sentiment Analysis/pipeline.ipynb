{
 "cells": [
  {
   "cell_type": "markdown",
   "metadata": {
    "id": "db6naC1gsKXw"
   },
   "source": [
    "Welcome"
   ]
  },
  {
   "cell_type": "code",
   "execution_count": 1,
   "metadata": {
    "colab": {
     "base_uri": "https://localhost:8080/"
    },
    "executionInfo": {
     "elapsed": 29441,
     "status": "ok",
     "timestamp": 1739375243079,
     "user": {
      "displayName": "Aaditi Agrawal",
      "userId": "02382142628344544705"
     },
     "user_tz": 0
    },
    "id": "dgz77iaHsNbz",
    "outputId": "e3d6636e-d51a-4b08-e175-359005c0476b"
   },
   "outputs": [],
   "source": [
    "#dependencies needed for s3.py script\n",
    "#RUN EVERYTIME YOU CONNECT TO NEW RUN TIME\n",
    "\n",
    "# !pip install boto3\n",
    "# !pip install python-dotenv\n",
    "# !pip install transformers\n",
    "# !pip install torch"
   ]
  },
  {
   "cell_type": "code",
   "execution_count": null,
   "metadata": {
    "executionInfo": {
     "elapsed": 4,
     "status": "ok",
     "timestamp": 1739375243085,
     "user": {
      "displayName": "Aaditi Agrawal",
      "userId": "02382142628344544705"
     },
     "user_tz": 0
    },
    "id": "TjLCBnjnsdDk"
   },
   "outputs": [
    {
     "name": "stderr",
     "output_type": "stream",
     "text": [
      "/uolstore/home/users/sc21aa/.local/lib/python3.9/site-packages/tqdm/auto.py:21: TqdmWarning: IProgress not found. Please update jupyter and ipywidgets. See https://ipywidgets.readthedocs.io/en/stable/user_install.html\n",
      "  from .autonotebook import tqdm as notebook_tqdm\n"
     ]
    }
   ],
   "source": [
    "#imports needed\n",
    "from util import *\n",
    "import numpy as np\n",
    "import pandas as pd\n",
    "import matplotlib.pyplot as plt\n",
    "import glob\n",
    "import os\n",
    "from dotenv import load_dotenv\n",
    "import sys\n",
    "scripts_folder = os.path.join(os.getcwd(), '..', 'Scripts')\n",
    "sys.path.append(scripts_folder)\n",
    "import s3\n",
    "from time import time\n",
    "\n",
    "#roberta\n",
    "from transformers import AutoTokenizer\n",
    "from transformers import AutoModelForSequenceClassification\n",
    "from scipy.special import softmax\n",
    "import torch\n",
    "import math\n",
    "from transformers import RobertaTokenizer, RobertaForSequenceClassification\n"
   ]
  },
  {
   "cell_type": "code",
   "execution_count": 2,
   "metadata": {
    "colab": {
     "base_uri": "https://localhost:8080/"
    },
    "collapsed": true,
    "executionInfo": {
     "elapsed": 1031,
     "status": "ok",
     "timestamp": 1739375244118,
     "user": {
      "displayName": "Aaditi Agrawal",
      "userId": "02382142628344544705"
     },
     "user_tz": 0
    },
    "id": "cfvz4OuNsjgg",
    "outputId": "f27a6f17-f3fc-46d5-eef1-b1ea25b3353e"
   },
   "outputs": [
    {
     "data": {
      "text/plain": [
       "False"
      ]
     },
     "execution_count": 2,
     "metadata": {},
     "output_type": "execute_result"
    }
   ],
   "source": [
    "# #connect to google drive to access script and .env file for s3\n",
    "# #for this to work - you need to add a shortcut to the group project folder to 'MyDrive' (can do this by clicking organise)\n",
    "\n",
    "# #mount google drive to access required files\n",
    "# from google.colab import drive\n",
    "# drive.mount('/content/drive')\n",
    "\n",
    "# #.env file needed for s3 script\n",
    "env_path = \"/uolstore/home/users/sc21aa/group-project/Scripts/env\"\n",
    "load_dotenv(env_path)\n",
    "# # #s3 script\n",
    "# %cd /content/drive/MyDrive/Group_project/Code/\n",
    "# import s3"
   ]
  },
  {
   "cell_type": "markdown",
   "metadata": {
    "id": "yXBnkKL0s7Tp"
   },
   "source": [
    "Change the path to data below as required"
   ]
  },
  {
   "cell_type": "code",
   "execution_count": 29,
   "metadata": {
    "executionInfo": {
     "elapsed": 31,
     "status": "ok",
     "timestamp": 1739375244167,
     "user": {
      "displayName": "Aaditi Agrawal",
      "userId": "02382142628344544705"
     },
     "user_tz": 0
    },
    "id": "HgezHLi0s5MR"
   },
   "outputs": [],
   "source": [
    "\n",
    "s3.download_all(\"processed/news/gnews_artifacts/\")\n",
    "s3.download(\"processed/news/gnews_artifacts/AAPL.parquet\")\n",
    "df = pd.read_parquet(s3.s3_to_local_path(\"processed/news/gnews_artifacts/AAPL.parquet\"))\n",
    "s3.download_all(\"processed/news/twitter_roberta/\")\n"
   ]
  },
  {
   "cell_type": "code",
   "execution_count": 47,
   "metadata": {},
   "outputs": [
    {
     "name": "stdout",
     "output_type": "stream",
     "text": [
      "1742770 rows.\n"
     ]
    }
   ],
   "source": [
    "dfs = [\n",
    "    (f, pd.read_parquet(f)) for f in s3.s3_to_local_path(\"processed/news/gnews_artifacts/\").glob(\"*\")\n",
    "]\n",
    "print(f\"{sum(len(df) for _, df in dfs)} rows.\")"
   ]
  },
  {
   "cell_type": "code",
   "execution_count": null,
   "metadata": {
    "colab": {
     "base_uri": "https://localhost:8080/"
    },
    "collapsed": true,
    "executionInfo": {
     "elapsed": 23073,
     "status": "ok",
     "timestamp": 1739375398097,
     "user": {
      "displayName": "Aaditi Agrawal",
      "userId": "02382142628344544705"
     },
     "user_tz": 0
    },
    "id": "zEd-JScquDmR",
    "outputId": "27196ff7-fc37-41ca-9d73-cc70e5617f24"
   },
   "outputs": [
    {
     "name": "stdout",
     "output_type": "stream",
     "text": [
      "Using GPU: NVIDIA GeForce RTX 4070\n"
     ]
    },
    {
     "name": "stderr",
     "output_type": "stream",
     "text": [
      "Some weights of the model checkpoint at cardiffnlp/twitter-roberta-base-sentiment-latest were not used when initializing RobertaForSequenceClassification: ['roberta.pooler.dense.bias', 'roberta.pooler.dense.weight']\n",
      "- This IS expected if you are initializing RobertaForSequenceClassification from the checkpoint of a model trained on another task or with another architecture (e.g. initializing a BertForSequenceClassification model from a BertForPreTraining model).\n",
      "- This IS NOT expected if you are initializing RobertaForSequenceClassification from the checkpoint of a model that you expect to be exactly identical (initializing a BertForSequenceClassification model from a BertForSequenceClassification model).\n"
     ]
    },
    {
     "name": "stdout",
     "output_type": "stream",
     "text": [
      "HH\n"
     ]
    }
   ],
   "source": [
    "#RoBERTa model\n",
    "\n",
    "#connect to GPU\n",
    "if torch.cuda.is_available():\n",
    "  device = torch.device(\"cuda\")\n",
    "  print(\"Using GPU:\", torch.cuda.get_device_name(0))\n",
    "else:\n",
    "  device = torch.device(\"cpu\")\n",
    "  print(\"Using CPU\")\n",
    "\n",
    "#model name\n",
    "#MODEL = f\"cardiffnlp/twitter-roberta-base-sentiment-latest\"\n",
    "MODEL = f\"cardiffnlp/twitter-roberta-base-sentiment-latest\"\n",
    "tokenizer = AutoTokenizer.from_pretrained(MODEL)\n",
    "model = AutoModelForSequenceClassification.from_pretrained(MODEL).to(device)\n",
    "print(\"HH\")\n",
    "\n",
    "# Function to get sentiment scores for a chunk\n",
    "def get_sentiment_scores(chunk):\n",
    "    encoded_text = tokenizer(chunk, return_tensors='pt')\n",
    "    output = model(**encoded_text)\n",
    "    #extracting and normalising sentiment scores\n",
    "    scores = output[0][0].detach().numpy()\n",
    "    #normalising the score\n",
    "    return softmax(scores)\n",
    "\n",
    "#function to split chunks if needed since roberta can do 512 at max (max 512 tokens can be processed at a time)\n",
    "def analyse_large_text(text):\n",
    "    tokens = tokenizer.encode(text, add_special_tokens=False)  # Encode to token IDs without special tokens\n",
    "    chunk_size = 512\n",
    "    # Overlap between chunks to avoid missing context between chunks\n",
    "    stride = 256\n",
    "    sentiment_scores = []\n",
    "    token_lengths = []\n",
    "\n",
    "    for i in range(0, len(tokens), stride):\n",
    "        chunk = tokens[i:min(i + chunk_size, len(tokens))]\n",
    "        chunk_text = tokenizer.decode(chunk)  # Decode back to text\n",
    "\n",
    "        inputs = tokenizer(chunk_text, return_tensors='pt', truncation=True, max_length=512).to(device)\n",
    "        output = model(**inputs)\n",
    "        scores = output[0][0].detach().cpu().numpy()\n",
    "        sentiment_scores.append(scores)\n",
    "        token_lengths.append(len(chunk))\n",
    "\n",
    "    # Weighted average of scores by chunk length\n",
    "    sentiment_scores = np.array(sentiment_scores)\n",
    "    weighted_scores = np.average(sentiment_scores, axis=0, weights=token_lengths)\n",
    "    # print('sentiment scores \\n', sentiment_scores)\n",
    "    # print('weighted scores \\n', weighted_scores)\n",
    "    \n",
    "    compound_score = weighted_scores[2] - weighted_scores[0]\n",
    "    \n",
    "    normalised_compound = compound_score / math.sqrt(compound_score**2 + 20)\n",
    "\n",
    "    # Return final aggregated sentiment\n",
    "    return {\n",
    "        'roberta_pos': weighted_scores[2],\n",
    "        'roberta_neu': weighted_scores[1],\n",
    "        'roberta_neg': weighted_scores[0],\n",
    "        'roberta_compound': compound_score,\n",
    "        'roberta_normalised_compound': normalised_compound,\n",
    "    }\n",
    "\n",
    "\n",
    "start = time()\n",
    "end = time()\n",
    "# title_data[['roberta_pos', 'roberta_neu', 'roberta_neg']] = title_data['title'].apply(lambda x: pd.Series(analyse_large_text(x)))\n",
    "# body_data[['roberta_pos', 'roberta_neu', 'roberta_neg']] = body_data['body'].apply(lambda x: pd.Series(analyse_large_text(x)))"
   ]
  },
  {
   "cell_type": "code",
   "execution_count": 52,
   "metadata": {},
   "outputs": [
    {
     "name": "stderr",
     "output_type": "stream",
     "text": [
      "  0%|          | 0/500 [00:00<?, ?it/s]"
     ]
    },
    {
     "name": "stdout",
     "output_type": "stream",
     "text": [
      "/local/data/s3local/sentimentgroup/processed/news/twitter_roberta/BR.parquet\n"
     ]
    },
    {
     "name": "stderr",
     "output_type": "stream",
     "text": [
      "  0%|          | 2/500 [00:01<07:57,  1.04it/s]"
     ]
    },
    {
     "name": "stdout",
     "output_type": "stream",
     "text": [
      "/local/data/s3local/sentimentgroup/processed/news/twitter_roberta/BRO.parquet\n"
     ]
    },
    {
     "name": "stderr",
     "output_type": "stream",
     "text": [
      "  1%|          | 3/500 [00:02<06:12,  1.33it/s]"
     ]
    },
    {
     "name": "stdout",
     "output_type": "stream",
     "text": [
      "/local/data/s3local/sentimentgroup/processed/news/twitter_roberta/DFS.parquet\n"
     ]
    },
    {
     "name": "stderr",
     "output_type": "stream",
     "text": [
      "  1%|          | 4/500 [00:11<31:19,  3.79s/it]"
     ]
    },
    {
     "name": "stdout",
     "output_type": "stream",
     "text": [
      "/local/data/s3local/sentimentgroup/processed/news/twitter_roberta/CHTR.parquet\n"
     ]
    },
    {
     "name": "stderr",
     "output_type": "stream",
     "text": [
      "  1%|          | 5/500 [00:13<27:40,  3.36s/it]"
     ]
    },
    {
     "name": "stdout",
     "output_type": "stream",
     "text": [
      "/local/data/s3local/sentimentgroup/processed/news/twitter_roberta/ACN.parquet\n"
     ]
    },
    {
     "name": "stderr",
     "output_type": "stream",
     "text": [
      "  1%|          | 6/500 [00:20<37:50,  4.60s/it]"
     ]
    },
    {
     "name": "stdout",
     "output_type": "stream",
     "text": [
      "/local/data/s3local/sentimentgroup/processed/news/twitter_roberta/BX.parquet\n"
     ]
    },
    {
     "name": "stderr",
     "output_type": "stream",
     "text": [
      "  1%|▏         | 7/500 [00:41<1:18:54,  9.60s/it]"
     ]
    },
    {
     "name": "stdout",
     "output_type": "stream",
     "text": [
      "/local/data/s3local/sentimentgroup/processed/news/twitter_roberta/ADBE.parquet\n"
     ]
    },
    {
     "name": "stderr",
     "output_type": "stream",
     "text": [
      "  2%|▏         | 8/500 [01:25<2:48:10, 20.51s/it]"
     ]
    },
    {
     "name": "stdout",
     "output_type": "stream",
     "text": [
      "/local/data/s3local/sentimentgroup/processed/news/twitter_roberta/CI.parquet\n"
     ]
    },
    {
     "name": "stderr",
     "output_type": "stream",
     "text": [
      "  2%|▏         | 9/500 [01:29<2:06:56, 15.51s/it]"
     ]
    },
    {
     "name": "stdout",
     "output_type": "stream",
     "text": [
      "/local/data/s3local/sentimentgroup/processed/news/twitter_roberta/ADI.parquet\n"
     ]
    },
    {
     "name": "stderr",
     "output_type": "stream",
     "text": [
      "  2%|▏         | 11/500 [01:31<1:03:48,  7.83s/it]"
     ]
    },
    {
     "name": "stdout",
     "output_type": "stream",
     "text": [
      "/local/data/s3local/sentimentgroup/processed/news/twitter_roberta/CINF.parquet\n",
      "/local/data/s3local/sentimentgroup/processed/news/twitter_roberta/ADM.parquet\n"
     ]
    },
    {
     "name": "stderr",
     "output_type": "stream",
     "text": [
      "  2%|▏         | 12/500 [01:33<50:13,  6.18s/it]  "
     ]
    },
    {
     "name": "stdout",
     "output_type": "stream",
     "text": [
      "/local/data/s3local/sentimentgroup/processed/news/twitter_roberta/CL.parquet\n"
     ]
    },
    {
     "name": "stderr",
     "output_type": "stream",
     "text": [
      "  3%|▎         | 13/500 [01:41<54:57,  6.77s/it]"
     ]
    },
    {
     "name": "stdout",
     "output_type": "stream",
     "text": [
      "/local/data/s3local/sentimentgroup/processed/news/twitter_roberta/ADP.parquet\n"
     ]
    },
    {
     "name": "stderr",
     "output_type": "stream",
     "text": [
      "  3%|▎         | 14/500 [01:48<53:50,  6.65s/it]"
     ]
    },
    {
     "name": "stdout",
     "output_type": "stream",
     "text": [
      "/local/data/s3local/sentimentgroup/processed/news/twitter_roberta/BWA.parquet\n"
     ]
    },
    {
     "name": "stderr",
     "output_type": "stream",
     "text": [
      "  3%|▎         | 15/500 [01:49<39:51,  4.93s/it]"
     ]
    },
    {
     "name": "stdout",
     "output_type": "stream",
     "text": [
      "/local/data/s3local/sentimentgroup/processed/news/twitter_roberta/ADSK.parquet\n"
     ]
    },
    {
     "name": "stderr",
     "output_type": "stream",
     "text": [
      "  3%|▎         | 16/500 [01:51<34:00,  4.22s/it]"
     ]
    },
    {
     "name": "stdout",
     "output_type": "stream",
     "text": [
      "/local/data/s3local/sentimentgroup/processed/news/twitter_roberta/CLX.parquet\n"
     ]
    },
    {
     "name": "stderr",
     "output_type": "stream",
     "text": [
      "  3%|▎         | 17/500 [01:57<37:52,  4.70s/it]"
     ]
    },
    {
     "name": "stdout",
     "output_type": "stream",
     "text": [
      "/local/data/s3local/sentimentgroup/processed/news/twitter_roberta/AEE.parquet\n"
     ]
    },
    {
     "name": "stderr",
     "output_type": "stream",
     "text": [
      "  4%|▎         | 18/500 [01:58<29:26,  3.67s/it]"
     ]
    },
    {
     "name": "stdout",
     "output_type": "stream",
     "text": [
      "/local/data/s3local/sentimentgroup/processed/news/twitter_roberta/CMCSA.parquet\n"
     ]
    },
    {
     "name": "stderr",
     "output_type": "stream",
     "text": [
      "  4%|▍         | 19/500 [02:24<1:21:47, 10.20s/it]"
     ]
    },
    {
     "name": "stdout",
     "output_type": "stream",
     "text": [
      "/local/data/s3local/sentimentgroup/processed/news/twitter_roberta/AEP.parquet\n"
     ]
    },
    {
     "name": "stderr",
     "output_type": "stream",
     "text": [
      "  4%|▍         | 20/500 [02:24<58:53,  7.36s/it]  "
     ]
    },
    {
     "name": "stdout",
     "output_type": "stream",
     "text": [
      "/local/data/s3local/sentimentgroup/processed/news/twitter_roberta/CME.parquet\n"
     ]
    },
    {
     "name": "stderr",
     "output_type": "stream",
     "text": [
      "  4%|▍         | 21/500 [02:41<1:20:47, 10.12s/it]"
     ]
    },
    {
     "name": "stdout",
     "output_type": "stream",
     "text": [
      "/local/data/s3local/sentimentgroup/processed/news/twitter_roberta/AES.parquet\n"
     ]
    },
    {
     "name": "stderr",
     "output_type": "stream",
     "text": [
      "  4%|▍         | 22/500 [02:43<1:00:22,  7.58s/it]"
     ]
    },
    {
     "name": "stdout",
     "output_type": "stream",
     "text": [
      "/local/data/s3local/sentimentgroup/processed/news/twitter_roberta/CMG.parquet\n"
     ]
    },
    {
     "name": "stderr",
     "output_type": "stream",
     "text": [
      "  5%|▍         | 23/500 [03:05<1:36:29, 12.14s/it]"
     ]
    },
    {
     "name": "stdout",
     "output_type": "stream",
     "text": [
      "/local/data/s3local/sentimentgroup/processed/news/twitter_roberta/AFL.parquet\n"
     ]
    },
    {
     "name": "stderr",
     "output_type": "stream",
     "text": [
      "  5%|▍         | 24/500 [03:07<1:10:31,  8.89s/it]"
     ]
    },
    {
     "name": "stdout",
     "output_type": "stream",
     "text": [
      "/local/data/s3local/sentimentgroup/processed/news/twitter_roberta/CMI.parquet\n"
     ]
    },
    {
     "name": "stderr",
     "output_type": "stream",
     "text": [
      "  5%|▌         | 25/500 [03:28<1:40:27, 12.69s/it]"
     ]
    },
    {
     "name": "stdout",
     "output_type": "stream",
     "text": [
      "/local/data/s3local/sentimentgroup/processed/news/twitter_roberta/AIG.parquet\n"
     ]
    },
    {
     "name": "stderr",
     "output_type": "stream",
     "text": [
      "  5%|▌         | 26/500 [03:31<1:17:21,  9.79s/it]"
     ]
    },
    {
     "name": "stdout",
     "output_type": "stream",
     "text": [
      "/local/data/s3local/sentimentgroup/processed/news/twitter_roberta/CMS.parquet\n"
     ]
    },
    {
     "name": "stderr",
     "output_type": "stream",
     "text": [
      "  5%|▌         | 27/500 [03:34<59:30,  7.55s/it]  "
     ]
    },
    {
     "name": "stdout",
     "output_type": "stream",
     "text": [
      "/local/data/s3local/sentimentgroup/processed/news/twitter_roberta/AIZ.parquet\n"
     ]
    },
    {
     "name": "stderr",
     "output_type": "stream",
     "text": [
      "  6%|▌         | 28/500 [03:34<42:32,  5.41s/it]"
     ]
    },
    {
     "name": "stdout",
     "output_type": "stream",
     "text": [
      "/local/data/s3local/sentimentgroup/processed/news/twitter_roberta/CNC.parquet\n"
     ]
    },
    {
     "name": "stderr",
     "output_type": "stream",
     "text": [
      "  6%|▌         | 29/500 [03:38<38:14,  4.87s/it]"
     ]
    },
    {
     "name": "stdout",
     "output_type": "stream",
     "text": [
      "/local/data/s3local/sentimentgroup/processed/news/twitter_roberta/AJG.parquet\n"
     ]
    },
    {
     "name": "stderr",
     "output_type": "stream",
     "text": [
      "  6%|▌         | 30/500 [03:38<27:26,  3.50s/it]"
     ]
    },
    {
     "name": "stdout",
     "output_type": "stream",
     "text": [
      "/local/data/s3local/sentimentgroup/processed/news/twitter_roberta/BXP.parquet\n"
     ]
    },
    {
     "name": "stderr",
     "output_type": "stream",
     "text": [
      "  6%|▌         | 31/500 [03:38<19:53,  2.54s/it]"
     ]
    },
    {
     "name": "stdout",
     "output_type": "stream",
     "text": [
      "/local/data/s3local/sentimentgroup/processed/news/twitter_roberta/AKAM.parquet\n"
     ]
    },
    {
     "name": "stderr",
     "output_type": "stream",
     "text": [
      "  6%|▋         | 32/500 [03:41<19:46,  2.54s/it]"
     ]
    },
    {
     "name": "stdout",
     "output_type": "stream",
     "text": [
      "/local/data/s3local/sentimentgroup/processed/news/twitter_roberta/CNP.parquet\n"
     ]
    },
    {
     "name": "stderr",
     "output_type": "stream",
     "text": [
      "  7%|▋         | 33/500 [03:42<17:26,  2.24s/it]"
     ]
    },
    {
     "name": "stdout",
     "output_type": "stream",
     "text": [
      "/local/data/s3local/sentimentgroup/processed/news/twitter_roberta/ALB.parquet\n"
     ]
    },
    {
     "name": "stderr",
     "output_type": "stream",
     "text": [
      "  7%|▋         | 34/500 [03:46<20:46,  2.68s/it]"
     ]
    },
    {
     "name": "stdout",
     "output_type": "stream",
     "text": [
      "/local/data/s3local/sentimentgroup/processed/news/twitter_roberta/C.parquet\n"
     ]
    },
    {
     "name": "stderr",
     "output_type": "stream",
     "text": [
      "  7%|▋         | 35/500 [04:09<1:08:30,  8.84s/it]"
     ]
    },
    {
     "name": "stdout",
     "output_type": "stream",
     "text": [
      "/local/data/s3local/sentimentgroup/processed/news/twitter_roberta/ALGN.parquet\n"
     ]
    },
    {
     "name": "stderr",
     "output_type": "stream",
     "text": [
      "  7%|▋         | 36/500 [04:11<50:45,  6.56s/it]  "
     ]
    },
    {
     "name": "stdout",
     "output_type": "stream",
     "text": [
      "/local/data/s3local/sentimentgroup/processed/news/twitter_roberta/COF.parquet\n"
     ]
    },
    {
     "name": "stderr",
     "output_type": "stream",
     "text": [
      "  7%|▋         | 37/500 [04:25<1:08:17,  8.85s/it]"
     ]
    },
    {
     "name": "stdout",
     "output_type": "stream",
     "text": [
      "/local/data/s3local/sentimentgroup/processed/news/twitter_roberta/ALL.parquet\n"
     ]
    },
    {
     "name": "stderr",
     "output_type": "stream",
     "text": [
      "  8%|▊         | 38/500 [04:28<56:09,  7.29s/it]  "
     ]
    },
    {
     "name": "stdout",
     "output_type": "stream",
     "text": [
      "/local/data/s3local/sentimentgroup/processed/news/twitter_roberta/CAG.parquet\n"
     ]
    },
    {
     "name": "stderr",
     "output_type": "stream",
     "text": [
      "  8%|▊         | 39/500 [04:31<45:16,  5.89s/it]"
     ]
    },
    {
     "name": "stdout",
     "output_type": "stream",
     "text": [
      "/local/data/s3local/sentimentgroup/processed/news/twitter_roberta/ALLE.parquet\n"
     ]
    },
    {
     "name": "stderr",
     "output_type": "stream",
     "text": [
      "  8%|▊         | 40/500 [04:31<32:25,  4.23s/it]"
     ]
    },
    {
     "name": "stdout",
     "output_type": "stream",
     "text": [
      "/local/data/s3local/sentimentgroup/processed/news/twitter_roberta/CAH.parquet\n"
     ]
    },
    {
     "name": "stderr",
     "output_type": "stream",
     "text": [
      "  8%|▊         | 41/500 [04:33<27:08,  3.55s/it]"
     ]
    },
    {
     "name": "stdout",
     "output_type": "stream",
     "text": [
      "/local/data/s3local/sentimentgroup/processed/news/twitter_roberta/AMAT.parquet\n"
     ]
    },
    {
     "name": "stderr",
     "output_type": "stream",
     "text": [
      "  8%|▊         | 42/500 [04:37<26:22,  3.46s/it]"
     ]
    },
    {
     "name": "stdout",
     "output_type": "stream",
     "text": [
      "/local/data/s3local/sentimentgroup/processed/news/twitter_roberta/CARR.parquet\n"
     ]
    },
    {
     "name": "stderr",
     "output_type": "stream",
     "text": [
      "  9%|▊         | 43/500 [04:38<20:39,  2.71s/it]"
     ]
    },
    {
     "name": "stdout",
     "output_type": "stream",
     "text": [
      "/local/data/s3local/sentimentgroup/processed/news/twitter_roberta/AMCR.parquet\n"
     ]
    },
    {
     "name": "stderr",
     "output_type": "stream",
     "text": [
      "  9%|▉         | 44/500 [04:38<15:08,  1.99s/it]"
     ]
    },
    {
     "name": "stdout",
     "output_type": "stream",
     "text": [
      "/local/data/s3local/sentimentgroup/processed/news/twitter_roberta/COO.parquet\n"
     ]
    },
    {
     "name": "stderr",
     "output_type": "stream",
     "text": [
      "  9%|▉         | 45/500 [06:54<5:19:17, 42.10s/it]"
     ]
    },
    {
     "name": "stdout",
     "output_type": "stream",
     "text": [
      "/local/data/s3local/sentimentgroup/processed/news/twitter_roberta/AMD.parquet\n"
     ]
    },
    {
     "name": "stderr",
     "output_type": "stream",
     "text": [
      "  9%|▉         | 46/500 [10:14<11:17:33, 89.54s/it]"
     ]
    },
    {
     "name": "stdout",
     "output_type": "stream",
     "text": [
      "/local/data/s3local/sentimentgroup/processed/news/twitter_roberta/COP.parquet\n"
     ]
    },
    {
     "name": "stderr",
     "output_type": "stream",
     "text": [
      "  9%|▉         | 47/500 [10:18<8:03:34, 64.05s/it] "
     ]
    },
    {
     "name": "stdout",
     "output_type": "stream",
     "text": [
      "/local/data/s3local/sentimentgroup/processed/news/twitter_roberta/AME.parquet\n"
     ]
    },
    {
     "name": "stderr",
     "output_type": "stream",
     "text": [
      " 10%|▉         | 48/500 [10:19<5:39:53, 45.12s/it]"
     ]
    },
    {
     "name": "stdout",
     "output_type": "stream",
     "text": [
      "/local/data/s3local/sentimentgroup/processed/news/twitter_roberta/CAT.parquet\n"
     ]
    },
    {
     "name": "stderr",
     "output_type": "stream",
     "text": [
      " 10%|▉         | 49/500 [10:34<4:30:02, 35.92s/it]"
     ]
    },
    {
     "name": "stdout",
     "output_type": "stream",
     "text": [
      "/local/data/s3local/sentimentgroup/processed/news/twitter_roberta/AMGN.parquet\n"
     ]
    },
    {
     "name": "stderr",
     "output_type": "stream",
     "text": [
      " 10%|█         | 50/500 [10:42<3:26:01, 27.47s/it]"
     ]
    },
    {
     "name": "stdout",
     "output_type": "stream",
     "text": [
      "/local/data/s3local/sentimentgroup/processed/news/twitter_roberta/COR.parquet\n"
     ]
    },
    {
     "name": "stderr",
     "output_type": "stream",
     "text": [
      " 10%|█         | 51/500 [10:42<2:24:20, 19.29s/it]"
     ]
    },
    {
     "name": "stdout",
     "output_type": "stream",
     "text": [
      "/local/data/s3local/sentimentgroup/processed/news/twitter_roberta/AMP.parquet\n"
     ]
    },
    {
     "name": "stderr",
     "output_type": "stream",
     "text": [
      " 10%|█         | 52/500 [10:44<1:45:10, 14.09s/it]"
     ]
    },
    {
     "name": "stdout",
     "output_type": "stream",
     "text": [
      "/local/data/s3local/sentimentgroup/processed/news/twitter_roberta/COST.parquet\n"
     ]
    },
    {
     "name": "stderr",
     "output_type": "stream",
     "text": [
      " 11%|█         | 53/500 [11:21<2:37:52, 21.19s/it]"
     ]
    },
    {
     "name": "stdout",
     "output_type": "stream",
     "text": [
      "/local/data/s3local/sentimentgroup/processed/news/twitter_roberta/AMT.parquet\n"
     ]
    },
    {
     "name": "stderr",
     "output_type": "stream",
     "text": [
      " 11%|█         | 54/500 [11:24<1:54:54, 15.46s/it]"
     ]
    },
    {
     "name": "stdout",
     "output_type": "stream",
     "text": [
      "/local/data/s3local/sentimentgroup/processed/news/twitter_roberta/CB.parquet\n"
     ]
    },
    {
     "name": "stderr",
     "output_type": "stream",
     "text": [
      " 11%|█         | 55/500 [11:44<2:06:12, 17.02s/it]"
     ]
    },
    {
     "name": "stdout",
     "output_type": "stream",
     "text": [
      "/local/data/s3local/sentimentgroup/processed/news/twitter_roberta/AMTM.parquet\n",
      "/local/data/s3local/sentimentgroup/processed/news/twitter_roberta/CBOE.parquet\n"
     ]
    },
    {
     "name": "stderr",
     "output_type": "stream",
     "text": [
      " 11%|█▏        | 57/500 [11:50<1:17:18, 10.47s/it]"
     ]
    },
    {
     "name": "stdout",
     "output_type": "stream",
     "text": [
      "/local/data/s3local/sentimentgroup/processed/news/twitter_roberta/AMZN.parquet\n"
     ]
    }
   ],
   "source": [
    "for path, df in tqdm(dfs):\n",
    "    out_path = Path(str(path).replace(\"gnews_artifacts\", \"twitter_roberta\"))\n",
    "    out_path.parent.mkdir(exist_ok=True, parents=True)\n",
    "    if not out_path.exists():\n",
    "        print(out_path)\n",
    "        df[['roberta_pos', 'roberta_neu', 'roberta_neg', 'roberta_compound', 'roberta_normalised_compound']] = df['text'].apply(lambda x: pd.Series(analyse_large_text(x)))\n",
    "        df.to_parquet(out_path)"
   ]
  },
  {
   "cell_type": "code",
   "execution_count": 44,
   "metadata": {},
   "outputs": [
    {
     "data": {
      "text/html": [
       "<div>\n",
       "<style scoped>\n",
       "    .dataframe tbody tr th:only-of-type {\n",
       "        vertical-align: middle;\n",
       "    }\n",
       "\n",
       "    .dataframe tbody tr th {\n",
       "        vertical-align: top;\n",
       "    }\n",
       "\n",
       "    .dataframe thead th {\n",
       "        text-align: right;\n",
       "    }\n",
       "</style>\n",
       "<table border=\"1\" class=\"dataframe\">\n",
       "  <thead>\n",
       "    <tr style=\"text-align: right;\">\n",
       "      <th></th>\n",
       "      <th>url</th>\n",
       "      <th>text</th>\n",
       "      <th>domain</th>\n",
       "      <th>dt</th>\n",
       "      <th>roberta_pos</th>\n",
       "      <th>roberta_neu</th>\n",
       "      <th>roberta_neg</th>\n",
       "      <th>roberta_compound</th>\n",
       "      <th>roberta_normalised_compound</th>\n",
       "    </tr>\n",
       "  </thead>\n",
       "  <tbody>\n",
       "    <tr>\n",
       "      <th>0</th>\n",
       "      <td>https://www.nydailynews.com/2024/11/30/rupert-...</td>\n",
       "      <td>'Harry Potter' star Rupert Grint ordered to pa...</td>\n",
       "      <td>New York Daily News</td>\n",
       "      <td>1732995331000</td>\n",
       "      <td>-1.185435</td>\n",
       "      <td>1.567737</td>\n",
       "      <td>-0.633387</td>\n",
       "      <td>-0.552048</td>\n",
       "      <td>-0.122512</td>\n",
       "    </tr>\n",
       "    <tr>\n",
       "      <th>1</th>\n",
       "      <td>https://seekingalpha.com/news/4148049-huawei-t...</td>\n",
       "      <td>Apple (</td>\n",
       "      <td>Seeking Alpha</td>\n",
       "      <td>1725893790000</td>\n",
       "      <td>0.288188</td>\n",
       "      <td>0.790645</td>\n",
       "      <td>-1.643020</td>\n",
       "      <td>1.931208</td>\n",
       "      <td>0.396446</td>\n",
       "    </tr>\n",
       "    <tr>\n",
       "      <th>2</th>\n",
       "      <td>https://seekingalpha.com/news/4148049-huawei-t...</td>\n",
       "      <td>Apple (AAPL) and Samsung (OTCPK:SSNLF) to be t...</td>\n",
       "      <td>Seeking Alpha</td>\n",
       "      <td>1725893790000</td>\n",
       "      <td>-0.911968</td>\n",
       "      <td>1.158567</td>\n",
       "      <td>-0.696433</td>\n",
       "      <td>-0.215535</td>\n",
       "      <td>-0.048139</td>\n",
       "    </tr>\n",
       "    <tr>\n",
       "      <th>3</th>\n",
       "      <td>https://www.mercurynews.com/2024/06/03/photos-...</td>\n",
       "      <td>Apple CEO’s Woodside mansion for sale for $23 ...</td>\n",
       "      <td>The Mercury News</td>\n",
       "      <td>1717436227000</td>\n",
       "      <td>2.369269</td>\n",
       "      <td>1.082665</td>\n",
       "      <td>-3.268001</td>\n",
       "      <td>5.637269</td>\n",
       "      <td>0.783417</td>\n",
       "    </tr>\n",
       "    <tr>\n",
       "      <th>4</th>\n",
       "      <td>https://www.digitaltrends.com/mobile/ups-worke...</td>\n",
       "      <td>Apple gear\\nThe desirability and high value of...</td>\n",
       "      <td>Digital Trends</td>\n",
       "      <td>1711007410000</td>\n",
       "      <td>2.807741</td>\n",
       "      <td>0.189212</td>\n",
       "      <td>-2.774343</td>\n",
       "      <td>5.582083</td>\n",
       "      <td>0.780427</td>\n",
       "    </tr>\n",
       "    <tr>\n",
       "      <th>...</th>\n",
       "      <td>...</td>\n",
       "      <td>...</td>\n",
       "      <td>...</td>\n",
       "      <td>...</td>\n",
       "      <td>...</td>\n",
       "      <td>...</td>\n",
       "      <td>...</td>\n",
       "      <td>...</td>\n",
       "      <td>...</td>\n",
       "    </tr>\n",
       "    <tr>\n",
       "      <th>997</th>\n",
       "      <td>https://www.techspot.com/news/91941-apple-m1-m...</td>\n",
       "      <td>Apple as an MPX module for the Mac Pro and coi...</td>\n",
       "      <td>TechSpot</td>\n",
       "      <td>1635280233000</td>\n",
       "      <td>0.617338</td>\n",
       "      <td>1.236407</td>\n",
       "      <td>-1.763731</td>\n",
       "      <td>2.381070</td>\n",
       "      <td>0.469963</td>\n",
       "    </tr>\n",
       "    <tr>\n",
       "      <th>998</th>\n",
       "      <td>https://www.techspot.com/news/91941-apple-m1-m...</td>\n",
       "      <td>Apple chips, AnandTech’s Andrei Frumusanu has ...</td>\n",
       "      <td>TechSpot</td>\n",
       "      <td>1635280233000</td>\n",
       "      <td>2.665001</td>\n",
       "      <td>-0.230261</td>\n",
       "      <td>-2.614141</td>\n",
       "      <td>5.279142</td>\n",
       "      <td>0.763018</td>\n",
       "    </tr>\n",
       "    <tr>\n",
       "      <th>999</th>\n",
       "      <td>https://www.cnet.com/tech/computing/lightroom-...</td>\n",
       "      <td>Apple Photos. The masking ability makes it a b...</td>\n",
       "      <td>CNET</td>\n",
       "      <td>1635279216000</td>\n",
       "      <td>2.457969</td>\n",
       "      <td>0.492762</td>\n",
       "      <td>-2.814759</td>\n",
       "      <td>5.272728</td>\n",
       "      <td>0.762630</td>\n",
       "    </tr>\n",
       "    <tr>\n",
       "      <th>1000</th>\n",
       "      <td>https://arstechnica.com/gadgets/2021/10/adobe-...</td>\n",
       "      <td>Apple Silicon Macs, and new web versions of so...</td>\n",
       "      <td>Ars Technica</td>\n",
       "      <td>1635276183000</td>\n",
       "      <td>0.823065</td>\n",
       "      <td>1.879509</td>\n",
       "      <td>-2.929582</td>\n",
       "      <td>3.752647</td>\n",
       "      <td>0.642796</td>\n",
       "    </tr>\n",
       "    <tr>\n",
       "      <th>1001</th>\n",
       "      <td>https://arstechnica.com/gadgets/2021/10/adobe-...</td>\n",
       "      <td>Apple Silicon support on recent Macs.\\nIt's no...</td>\n",
       "      <td>Ars Technica</td>\n",
       "      <td>1635276183000</td>\n",
       "      <td>1.385669</td>\n",
       "      <td>1.493086</td>\n",
       "      <td>-3.025622</td>\n",
       "      <td>4.411291</td>\n",
       "      <td>0.702247</td>\n",
       "    </tr>\n",
       "  </tbody>\n",
       "</table>\n",
       "<p>1000 rows × 9 columns</p>\n",
       "</div>"
      ],
      "text/plain": [
       "                                                    url  \\\n",
       "0     https://www.nydailynews.com/2024/11/30/rupert-...   \n",
       "1     https://seekingalpha.com/news/4148049-huawei-t...   \n",
       "2     https://seekingalpha.com/news/4148049-huawei-t...   \n",
       "3     https://www.mercurynews.com/2024/06/03/photos-...   \n",
       "4     https://www.digitaltrends.com/mobile/ups-worke...   \n",
       "...                                                 ...   \n",
       "997   https://www.techspot.com/news/91941-apple-m1-m...   \n",
       "998   https://www.techspot.com/news/91941-apple-m1-m...   \n",
       "999   https://www.cnet.com/tech/computing/lightroom-...   \n",
       "1000  https://arstechnica.com/gadgets/2021/10/adobe-...   \n",
       "1001  https://arstechnica.com/gadgets/2021/10/adobe-...   \n",
       "\n",
       "                                                   text               domain  \\\n",
       "0     'Harry Potter' star Rupert Grint ordered to pa...  New York Daily News   \n",
       "1                                               Apple (        Seeking Alpha   \n",
       "2     Apple (AAPL) and Samsung (OTCPK:SSNLF) to be t...        Seeking Alpha   \n",
       "3     Apple CEO’s Woodside mansion for sale for $23 ...     The Mercury News   \n",
       "4     Apple gear\\nThe desirability and high value of...       Digital Trends   \n",
       "...                                                 ...                  ...   \n",
       "997   Apple as an MPX module for the Mac Pro and coi...             TechSpot   \n",
       "998   Apple chips, AnandTech’s Andrei Frumusanu has ...             TechSpot   \n",
       "999   Apple Photos. The masking ability makes it a b...                 CNET   \n",
       "1000  Apple Silicon Macs, and new web versions of so...         Ars Technica   \n",
       "1001  Apple Silicon support on recent Macs.\\nIt's no...         Ars Technica   \n",
       "\n",
       "                 dt  roberta_pos  roberta_neu  roberta_neg  roberta_compound  \\\n",
       "0     1732995331000    -1.185435     1.567737    -0.633387         -0.552048   \n",
       "1     1725893790000     0.288188     0.790645    -1.643020          1.931208   \n",
       "2     1725893790000    -0.911968     1.158567    -0.696433         -0.215535   \n",
       "3     1717436227000     2.369269     1.082665    -3.268001          5.637269   \n",
       "4     1711007410000     2.807741     0.189212    -2.774343          5.582083   \n",
       "...             ...          ...          ...          ...               ...   \n",
       "997   1635280233000     0.617338     1.236407    -1.763731          2.381070   \n",
       "998   1635280233000     2.665001    -0.230261    -2.614141          5.279142   \n",
       "999   1635279216000     2.457969     0.492762    -2.814759          5.272728   \n",
       "1000  1635276183000     0.823065     1.879509    -2.929582          3.752647   \n",
       "1001  1635276183000     1.385669     1.493086    -3.025622          4.411291   \n",
       "\n",
       "      roberta_normalised_compound  \n",
       "0                       -0.122512  \n",
       "1                        0.396446  \n",
       "2                       -0.048139  \n",
       "3                        0.783417  \n",
       "4                        0.780427  \n",
       "...                           ...  \n",
       "997                      0.469963  \n",
       "998                      0.763018  \n",
       "999                      0.762630  \n",
       "1000                     0.642796  \n",
       "1001                     0.702247  \n",
       "\n",
       "[1000 rows x 9 columns]"
      ]
     },
     "execution_count": 44,
     "metadata": {},
     "output_type": "execute_result"
    }
   ],
   "source": [
    "s3.upload_all(\"processed/news/twitter_roberta/\")\n"
   ]
  },
  {
   "cell_type": "code",
   "execution_count": 7,
   "metadata": {
    "executionInfo": {
     "elapsed": 61731,
     "status": "aborted",
     "timestamp": 1739375275209,
     "user": {
      "displayName": "Aaditi Agrawal",
      "userId": "02382142628344544705"
     },
     "user_tz": 0
    },
    "id": "g1WjFst87VAQ"
   },
   "outputs": [],
   "source": [
    "#Roberta ENSEMBLE MODEL\n",
    "\n",
    "# # Device setup (GPU if available, otherwise CPU)\n",
    "# device = torch.device(\"cuda\" if torch.cuda.is_available() else \"cpu\")\n",
    "\n",
    "# # Load both sentiment models\n",
    "# MODEL_1 = \"cardiffnlp/twitter-roberta-base-sentiment-latest\"  # Social media sentiment model\n",
    "# MODEL_2 = \"ProsusAI/finbert\"  # Financial sentiment model\n",
    "\n",
    "# tokenizer_1 = AutoTokenizer.from_pretrained(MODEL_1)\n",
    "# model_1 = AutoModelForSequenceClassification.from_pretrained(MODEL_1).to(device)\n",
    "\n",
    "# tokenizer_2 = AutoTokenizer.from_pretrained(MODEL_2)\n",
    "# model_2 = AutoModelForSequenceClassification.from_pretrained(MODEL_2).to(device)\n",
    "\n",
    "# # Function to get sentiment scores for a given model\n",
    "# def get_sentiment_scores(model, tokenizer, text):\n",
    "#     inputs = tokenizer(text, return_tensors='pt', truncation=True, max_length=512).to(device)\n",
    "#     output = model(**inputs)\n",
    "#     scores = output.logits.detach().cpu().numpy()[0]\n",
    "#     return softmax(scores)  # Normalize the scores\n",
    "\n",
    "# # Function to analyse large text chunks\n",
    "# def analyse_large_text(text):\n",
    "#     tokens = tokenizer_1.encode(text, add_special_tokens=False)\n",
    "#     chunk_size = 512\n",
    "#     stride = 256\n",
    "#     sentiment_scores_1 = []\n",
    "#     sentiment_scores_2 = []\n",
    "#     token_lengths = []\n",
    "\n",
    "#     for i in range(0, len(tokens), stride):\n",
    "#         chunk = tokens[i:min(i + chunk_size, len(tokens))]\n",
    "#         chunk_text = tokenizer_1.decode(chunk)\n",
    "\n",
    "#         # Get sentiment scores from both models\n",
    "#         scores_1 = get_sentiment_scores(model_1, tokenizer_1, chunk_text)\n",
    "#         scores_2 = get_sentiment_scores(model_2, tokenizer_2, chunk_text)\n",
    "\n",
    "#         sentiment_scores_1.append(scores_1)\n",
    "#         sentiment_scores_2.append(scores_2)\n",
    "#         token_lengths.append(len(chunk))\n",
    "\n",
    "#     # Weighted average of scores (based on token lengths)\n",
    "#     sentiment_scores_1 = np.array(sentiment_scores_1)\n",
    "#     sentiment_scores_2 = np.array(sentiment_scores_2)\n",
    "\n",
    "#     weighted_scores_1 = np.average(sentiment_scores_1, axis=0, weights=token_lengths)\n",
    "#     weighted_scores_2 = np.average(sentiment_scores_2, axis=0, weights=token_lengths)\n",
    "\n",
    "#     # Final ensemble output (Average scores from both models)\n",
    "#     final_scores = (weighted_scores_1 + weighted_scores_2) / 2\n",
    "\n",
    "#     # Return final sentiment scores\n",
    "#     return {\n",
    "#         'ensemble_pos': final_scores[2],  # Positive\n",
    "#         'ensemble_neu': final_scores[1],  # Neutral\n",
    "#         'ensemble_neg': final_scores[0],  # Negative\n",
    "#     }\n",
    "\n",
    "# # Apply sentiment analysis to title and body data\n",
    "# title_data[['ensemble_pos', 'ensemble_neu', 'ensemble_neg']] = title_data['title'].apply(lambda x: pd.Series(analyse_large_text(x)))\n",
    "# body_data[['ensemble_pos', 'ensemble_neu', 'ensemble_neg']] = body_data['body'].apply(lambda x: pd.Series(analyse_large_text(x)))\n"
   ]
  },
  {
   "cell_type": "code",
   "execution_count": 8,
   "metadata": {
    "executionInfo": {
     "elapsed": 61732,
     "status": "aborted",
     "timestamp": 1739375275212,
     "user": {
      "displayName": "Aaditi Agrawal",
      "userId": "02382142628344544705"
     },
     "user_tz": 0
    },
    "id": "FXt3CeVEuQmg"
   },
   "outputs": [],
   "source": [
    "# #save as csv files\n",
    "# from google.colab import files\n",
    "\n",
    "# #change file names as required\n",
    "# title_data.to_csv('GS_title_model3.csv', encoding='utf-8')\n",
    "# body_data.to_csv('GS_body_model3.csv', encoding='utf-8')\n",
    "\n",
    "# files.download('GS_title_model3.csv')\n",
    "# files.download('GS_body_model3.csv')"
   ]
  },
  {
   "cell_type": "code",
   "execution_count": 9,
   "metadata": {
    "colab": {
     "base_uri": "https://localhost:8080/",
     "height": 1000
    },
    "collapsed": true,
    "executionInfo": {
     "elapsed": 126,
     "status": "ok",
     "timestamp": 1739375447523,
     "user": {
      "displayName": "Aaditi Agrawal",
      "userId": "02382142628344544705"
     },
     "user_tz": 0
    },
    "id": "FX6JiEU3uc8H",
    "outputId": "0f9f0351-0a49-427b-8d77-3d396656e683"
   },
   "outputs": [
    {
     "data": {
      "text/html": [
       "<div>\n",
       "<style scoped>\n",
       "    .dataframe tbody tr th:only-of-type {\n",
       "        vertical-align: middle;\n",
       "    }\n",
       "\n",
       "    .dataframe tbody tr th {\n",
       "        vertical-align: top;\n",
       "    }\n",
       "\n",
       "    .dataframe thead th {\n",
       "        text-align: right;\n",
       "    }\n",
       "</style>\n",
       "<table border=\"1\" class=\"dataframe\">\n",
       "  <thead>\n",
       "    <tr style=\"text-align: right;\">\n",
       "      <th></th>\n",
       "      <th>title</th>\n",
       "      <th>description</th>\n",
       "      <th>body</th>\n",
       "      <th>url</th>\n",
       "      <th>domain</th>\n",
       "      <th>dt</th>\n",
       "      <th>full_data</th>\n",
       "      <th>roberta_pos</th>\n",
       "      <th>roberta_neu</th>\n",
       "      <th>roberta_neg</th>\n",
       "    </tr>\n",
       "  </thead>\n",
       "  <tbody>\n",
       "    <tr>\n",
       "      <th>0</th>\n",
       "      <td>How short-term vacation rentals use a decades-...</td>\n",
       "      <td>An often-overlooked risk of booking vacation r...</td>\n",
       "      <td>CNN —\\nIt has been just over two years since Z...</td>\n",
       "      <td>https://edition.cnn.com/2024/12/24/economy/sho...</td>\n",
       "      <td>Cable News Network</td>\n",
       "      <td>1735034449000</td>\n",
       "      <td>How short-term vacation rentals use a decades-...</td>\n",
       "      <td>0.553966</td>\n",
       "      <td>0.400172</td>\n",
       "      <td>0.045863</td>\n",
       "    </tr>\n",
       "    <tr>\n",
       "      <th>1</th>\n",
       "      <td>Watching Home Alone With Macaulay Culkin</td>\n",
       "      <td>‘A Nostalgic Night with Macaulay Culkin’ invit...</td>\n",
       "      <td>Photo-Illustration: Vulture; Photos: 20th Cent...</td>\n",
       "      <td>https://www.vulture.com/article/watching-home-...</td>\n",
       "      <td>Vulture</td>\n",
       "      <td>1734609652000</td>\n",
       "      <td>Watching Home Alone With Macaulay Culkin Photo...</td>\n",
       "      <td>0.800338</td>\n",
       "      <td>0.165531</td>\n",
       "      <td>0.034131</td>\n",
       "    </tr>\n",
       "    <tr>\n",
       "      <th>2</th>\n",
       "      <td>How Airbnb is using anti-party technology for ...</td>\n",
       "      <td>Short-term rental giant Airbnb is working to m...</td>\n",
       "      <td>COLUMBUS, Ohio (WCMH) — Short-term rental gian...</td>\n",
       "      <td>https://fox8.com/news/how-airbnb-is-using-anti...</td>\n",
       "      <td>WJW FOX 8 News Cleveland</td>\n",
       "      <td>1734484684000</td>\n",
       "      <td>How Airbnb is using anti-party technology for ...</td>\n",
       "      <td>0.825245</td>\n",
       "      <td>0.036851</td>\n",
       "      <td>0.137904</td>\n",
       "    </tr>\n",
       "    <tr>\n",
       "      <th>3</th>\n",
       "      <td>RollAway’s electric ‘Suite on Wheels’ now avai...</td>\n",
       "      <td>RollAway, a Silicon Valley startup, is offerin...</td>\n",
       "      <td>While glamping, or glamourous camping, with el...</td>\n",
       "      <td>https://www.digitaltrends.com/cars/rollaway-st...</td>\n",
       "      <td>Digital Trends</td>\n",
       "      <td>1734482059000</td>\n",
       "      <td>RollAway’s electric ‘Suite on Wheels’ now avai...</td>\n",
       "      <td>0.864938</td>\n",
       "      <td>0.010046</td>\n",
       "      <td>0.125016</td>\n",
       "    </tr>\n",
       "    <tr>\n",
       "      <th>4</th>\n",
       "      <td>Airbnb guests destroy home's furniture, redeco...</td>\n",
       "      <td>An Airbnb property manager is seeing red after...</td>\n",
       "      <td>This guest lives rent-free in their heads.\\nAn...</td>\n",
       "      <td>https://nypost.com/2024/12/17/lifestyle/i-was-...</td>\n",
       "      <td>New York Post</td>\n",
       "      <td>1734461637000</td>\n",
       "      <td>Airbnb guests destroy home's furniture, redeco...</td>\n",
       "      <td>0.614556</td>\n",
       "      <td>0.349954</td>\n",
       "      <td>0.035491</td>\n",
       "    </tr>\n",
       "    <tr>\n",
       "      <th>...</th>\n",
       "      <td>...</td>\n",
       "      <td>...</td>\n",
       "      <td>...</td>\n",
       "      <td>...</td>\n",
       "      <td>...</td>\n",
       "      <td>...</td>\n",
       "      <td>...</td>\n",
       "      <td>...</td>\n",
       "      <td>...</td>\n",
       "      <td>...</td>\n",
       "    </tr>\n",
       "    <tr>\n",
       "      <th>1996</th>\n",
       "      <td>Airbnb CEO Brian Chesky predicts a wildly diff...</td>\n",
       "      <td>Airbnb CEO Brian Chesky. Mike Segar/Reuters Ai...</td>\n",
       "      <td>Airbnb CEO Brian Chesky. Mike Segar/Reuters\\nA...</td>\n",
       "      <td>https://markets.businessinsider.com/news/stock...</td>\n",
       "      <td>Business Insider</td>\n",
       "      <td>1589083200000</td>\n",
       "      <td>Airbnb CEO Brian Chesky predicts a wildly diff...</td>\n",
       "      <td>0.303165</td>\n",
       "      <td>0.619250</td>\n",
       "      <td>0.077585</td>\n",
       "    </tr>\n",
       "    <tr>\n",
       "      <th>1997</th>\n",
       "      <td>Airbnb's cofounder makes a compelling argument...</td>\n",
       "      <td>People working in the lobby of the Airbnb head...</td>\n",
       "      <td>People working in the lobby of the Airbnb head...</td>\n",
       "      <td>https://markets.businessinsider.com/news/stock...</td>\n",
       "      <td>Business Insider</td>\n",
       "      <td>1581310800000</td>\n",
       "      <td>Airbnb's cofounder makes a compelling argument...</td>\n",
       "      <td>0.875880</td>\n",
       "      <td>0.062495</td>\n",
       "      <td>0.061625</td>\n",
       "    </tr>\n",
       "    <tr>\n",
       "      <th>1998</th>\n",
       "      <td>Airbnb banning 'party houses' after Orinda Hal...</td>\n",
       "      <td>In response to the shooting in Orinda, Airbnb ...</td>\n",
       "      <td>In response to the shooting at a Halloween par...</td>\n",
       "      <td>https://www.mercurynews.com/2019/11/02/airbnb-...</td>\n",
       "      <td>The Mercury News</td>\n",
       "      <td>1572725309000</td>\n",
       "      <td>Airbnb banning 'party houses' after Orinda Hal...</td>\n",
       "      <td>0.644503</td>\n",
       "      <td>0.301102</td>\n",
       "      <td>0.054395</td>\n",
       "    </tr>\n",
       "    <tr>\n",
       "      <th>1999</th>\n",
       "      <td>Read the application form that got the 'Spotif...</td>\n",
       "      <td>Yunha Kim dropped out of Stanford Graduate Sch...</td>\n",
       "      <td>Yunha Kim dropped out of Stanford Graduate Sch...</td>\n",
       "      <td>https://markets.businessinsider.com/news/stock...</td>\n",
       "      <td>Business Insider</td>\n",
       "      <td>1557460800000</td>\n",
       "      <td>Read the application form that got the 'Spotif...</td>\n",
       "      <td>0.912416</td>\n",
       "      <td>0.022099</td>\n",
       "      <td>0.065484</td>\n",
       "    </tr>\n",
       "    <tr>\n",
       "      <th>2000</th>\n",
       "      <td>The rise of Airbnb CEO Brian Chesky, who got h...</td>\n",
       "      <td>Airbnb CEO Brian Chesky.\\nMike Windle/Getty\\nB...</td>\n",
       "      <td>Brian Chesky didn't know much about tech befor...</td>\n",
       "      <td>https://markets.businessinsider.com/news/stock...</td>\n",
       "      <td>Business Insider</td>\n",
       "      <td>1496253985000</td>\n",
       "      <td>The rise of Airbnb CEO Brian Chesky, who got h...</td>\n",
       "      <td>0.775357</td>\n",
       "      <td>0.152810</td>\n",
       "      <td>0.071833</td>\n",
       "    </tr>\n",
       "  </tbody>\n",
       "</table>\n",
       "<p>2001 rows × 10 columns</p>\n",
       "</div>"
      ],
      "text/plain": [
       "                                                  title  \\\n",
       "0     How short-term vacation rentals use a decades-...   \n",
       "1              Watching Home Alone With Macaulay Culkin   \n",
       "2     How Airbnb is using anti-party technology for ...   \n",
       "3     RollAway’s electric ‘Suite on Wheels’ now avai...   \n",
       "4     Airbnb guests destroy home's furniture, redeco...   \n",
       "...                                                 ...   \n",
       "1996  Airbnb CEO Brian Chesky predicts a wildly diff...   \n",
       "1997  Airbnb's cofounder makes a compelling argument...   \n",
       "1998  Airbnb banning 'party houses' after Orinda Hal...   \n",
       "1999  Read the application form that got the 'Spotif...   \n",
       "2000  The rise of Airbnb CEO Brian Chesky, who got h...   \n",
       "\n",
       "                                            description  \\\n",
       "0     An often-overlooked risk of booking vacation r...   \n",
       "1     ‘A Nostalgic Night with Macaulay Culkin’ invit...   \n",
       "2     Short-term rental giant Airbnb is working to m...   \n",
       "3     RollAway, a Silicon Valley startup, is offerin...   \n",
       "4     An Airbnb property manager is seeing red after...   \n",
       "...                                                 ...   \n",
       "1996  Airbnb CEO Brian Chesky. Mike Segar/Reuters Ai...   \n",
       "1997  People working in the lobby of the Airbnb head...   \n",
       "1998  In response to the shooting in Orinda, Airbnb ...   \n",
       "1999  Yunha Kim dropped out of Stanford Graduate Sch...   \n",
       "2000  Airbnb CEO Brian Chesky.\\nMike Windle/Getty\\nB...   \n",
       "\n",
       "                                                   body  \\\n",
       "0     CNN —\\nIt has been just over two years since Z...   \n",
       "1     Photo-Illustration: Vulture; Photos: 20th Cent...   \n",
       "2     COLUMBUS, Ohio (WCMH) — Short-term rental gian...   \n",
       "3     While glamping, or glamourous camping, with el...   \n",
       "4     This guest lives rent-free in their heads.\\nAn...   \n",
       "...                                                 ...   \n",
       "1996  Airbnb CEO Brian Chesky. Mike Segar/Reuters\\nA...   \n",
       "1997  People working in the lobby of the Airbnb head...   \n",
       "1998  In response to the shooting at a Halloween par...   \n",
       "1999  Yunha Kim dropped out of Stanford Graduate Sch...   \n",
       "2000  Brian Chesky didn't know much about tech befor...   \n",
       "\n",
       "                                                    url  \\\n",
       "0     https://edition.cnn.com/2024/12/24/economy/sho...   \n",
       "1     https://www.vulture.com/article/watching-home-...   \n",
       "2     https://fox8.com/news/how-airbnb-is-using-anti...   \n",
       "3     https://www.digitaltrends.com/cars/rollaway-st...   \n",
       "4     https://nypost.com/2024/12/17/lifestyle/i-was-...   \n",
       "...                                                 ...   \n",
       "1996  https://markets.businessinsider.com/news/stock...   \n",
       "1997  https://markets.businessinsider.com/news/stock...   \n",
       "1998  https://www.mercurynews.com/2019/11/02/airbnb-...   \n",
       "1999  https://markets.businessinsider.com/news/stock...   \n",
       "2000  https://markets.businessinsider.com/news/stock...   \n",
       "\n",
       "                        domain             dt  \\\n",
       "0           Cable News Network  1735034449000   \n",
       "1                      Vulture  1734609652000   \n",
       "2     WJW FOX 8 News Cleveland  1734484684000   \n",
       "3               Digital Trends  1734482059000   \n",
       "4                New York Post  1734461637000   \n",
       "...                        ...            ...   \n",
       "1996          Business Insider  1589083200000   \n",
       "1997          Business Insider  1581310800000   \n",
       "1998          The Mercury News  1572725309000   \n",
       "1999          Business Insider  1557460800000   \n",
       "2000          Business Insider  1496253985000   \n",
       "\n",
       "                                              full_data  roberta_pos  \\\n",
       "0     How short-term vacation rentals use a decades-...     0.553966   \n",
       "1     Watching Home Alone With Macaulay Culkin Photo...     0.800338   \n",
       "2     How Airbnb is using anti-party technology for ...     0.825245   \n",
       "3     RollAway’s electric ‘Suite on Wheels’ now avai...     0.864938   \n",
       "4     Airbnb guests destroy home's furniture, redeco...     0.614556   \n",
       "...                                                 ...          ...   \n",
       "1996  Airbnb CEO Brian Chesky predicts a wildly diff...     0.303165   \n",
       "1997  Airbnb's cofounder makes a compelling argument...     0.875880   \n",
       "1998  Airbnb banning 'party houses' after Orinda Hal...     0.644503   \n",
       "1999  Read the application form that got the 'Spotif...     0.912416   \n",
       "2000  The rise of Airbnb CEO Brian Chesky, who got h...     0.775357   \n",
       "\n",
       "      roberta_neu  roberta_neg  \n",
       "0        0.400172     0.045863  \n",
       "1        0.165531     0.034131  \n",
       "2        0.036851     0.137904  \n",
       "3        0.010046     0.125016  \n",
       "4        0.349954     0.035491  \n",
       "...           ...          ...  \n",
       "1996     0.619250     0.077585  \n",
       "1997     0.062495     0.061625  \n",
       "1998     0.301102     0.054395  \n",
       "1999     0.022099     0.065484  \n",
       "2000     0.152810     0.071833  \n",
       "\n",
       "[2001 rows x 10 columns]"
      ]
     },
     "metadata": {},
     "output_type": "display_data"
    }
   ],
   "source": [
    "display(df)\n",
    "# display(title_data)\n",
    "# display(body_data)"
   ]
  },
  {
   "cell_type": "code",
   "execution_count": 10,
   "metadata": {
    "executionInfo": {
     "elapsed": 30,
     "status": "ok",
     "timestamp": 1739375527012,
     "user": {
      "displayName": "Aaditi Agrawal",
      "userId": "02382142628344544705"
     },
     "user_tz": 0
    },
    "id": "wDL9dTHKqwOU"
   },
   "outputs": [],
   "source": [
    "df['dt'] = pd.to_datetime(df['dt'], unit='ms')\n",
    "df['dt'] = df['dt'].dt.date\n",
    "\n"
   ]
  }
 ],
 "metadata": {
  "accelerator": "GPU",
  "colab": {
   "authorship_tag": "ABX9TyMAR68WB+/E1jzrhC9K2QcP",
   "gpuType": "T4",
   "provenance": []
  },
  "kernelspec": {
   "display_name": "usr",
   "language": "python",
   "name": "python3"
  },
  "language_info": {
   "codemirror_mode": {
    "name": "ipython",
    "version": 3
   },
   "file_extension": ".py",
   "mimetype": "text/x-python",
   "name": "python",
   "nbconvert_exporter": "python",
   "pygments_lexer": "ipython3",
   "version": "3.9.21"
  }
 },
 "nbformat": 4,
 "nbformat_minor": 0
}
